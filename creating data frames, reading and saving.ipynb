{
 "cells": [
  {
   "cell_type": "code",
   "execution_count": 1,
   "metadata": {},
   "outputs": [
    {
     "name": "stdout",
     "output_type": "stream",
     "text": [
      "      First Column    Second Column\n",
      "0              Tom             Anna\n",
      "1  Second value 10  Second value 20\n"
     ]
    }
   ],
   "source": [
    "import pandas as pd\n",
    "\n",
    "#1.\n",
    "data = {'First Column':  ['Tom', 'Second value 10'],\n",
    "        'Second Column': ['Anna', 'Second value 20']}\n",
    "\n",
    "df = pd.DataFrame (data, columns = ['First Column','Second Column'])\n",
    "\n",
    "print (df)"
   ]
  },
  {
   "cell_type": "code",
   "execution_count": 2,
   "metadata": {},
   "outputs": [
    {
     "name": "stdout",
     "output_type": "stream",
     "text": [
      "  First Column    Second Column\n",
      "0          Tom  Second value 10\n",
      "1         Anna  Second value 20\n"
     ]
    }
   ],
   "source": [
    "#2.-initialize list of lists\n",
    "data = [['Tom', 'Second value 10'], ['Anna', 'Second value 20']]\n",
    "df = pd.DataFrame (data, columns = ['First Column','Second Column'])\n",
    "print(df)"
   ]
  },
  {
   "cell_type": "code",
   "execution_count": 3,
   "metadata": {},
   "outputs": [
    {
     "name": "stdout",
     "output_type": "stream",
     "text": [
      "        First Column    Second Column\n",
      "Index_1          Tom  Second value 10\n",
      "Index_2         Anna  Second value 20\n"
     ]
    }
   ],
   "source": [
    "#3.-index\n",
    "df = pd.DataFrame (data, columns = ['First Column','Second Column'], index=['Index_1','Index_2'])\n",
    "\n",
    "print (df)"
   ]
  },
  {
   "cell_type": "code",
   "execution_count": 4,
   "metadata": {},
   "outputs": [
    {
     "name": "stdout",
     "output_type": "stream",
     "text": [
      "   Tom  Anna\n",
      "0    1     2\n",
      "1   10    20\n"
     ]
    }
   ],
   "source": [
    "#4.-creating Dataframe from list of dicts\n",
    "data = [{'Tom': 1, 'Anna': 2},\n",
    "        {'Tom':10, 'Anna': 20}]\n",
    "df = pd.DataFrame(data)\n",
    "print(df)"
   ]
  },
  {
   "cell_type": "code",
   "execution_count": 5,
   "metadata": {},
   "outputs": [
    {
     "name": "stdout",
     "output_type": "stream",
     "text": [
      "         Tom  Anna\n",
      "Index_1    1     2\n",
      "Index_2   10    20\n"
     ]
    }
   ],
   "source": [
    "#5.-third value John is not used\n",
    "data = [{'Tom': 1, 'Anna': 2},\n",
    "        {'Tom': 10, 'Anna': 20, 'John': 30}]\n",
    "\n",
    "df = pd.DataFrame(data, index=['Index_1','Index_2'], columns = ['Tom','Anna'])\n",
    "print(df)"
   ]
  },
  {
   "cell_type": "code",
   "execution_count": 6,
   "metadata": {},
   "outputs": [
    {
     "name": "stdout",
     "output_type": "stream",
     "text": [
      "   Name  Age\n",
      "0   Tom   25\n",
      "1  Anna   30\n",
      "2  John   26\n"
     ]
    }
   ],
   "source": [
    "#6.- creating DataFrame using zip() function\n",
    "Name = ['Tom', 'Anna', 'John'] \n",
    "Age = [25, 30, 26] \n",
    "# and merge lists by using zip()\n",
    "list_of_tuples = list(zip(Name, Age))\n",
    "df = pd.DataFrame(list_of_tuples, columns = ['Name', 'Age'])\n",
    "print(df)"
   ]
  },
  {
   "cell_type": "code",
   "execution_count": 7,
   "metadata": {},
   "outputs": [
    {
     "name": "stdout",
     "output_type": "stream",
     "text": [
      "         Tom  Anna\n",
      "Index_1    5    20\n",
      "Index_2   15    30\n"
     ]
    }
   ],
   "source": [
    "#7.creating DataFrame from Dicts of series\n",
    "data= {'Tom' : pd.Series([5, 15], index = ['Index_1','Index_2']),\n",
    "        'Anna' : pd.Series([20, 30], index = ['Index_1','Index_2'])}\n",
    "df = pd.DataFrame(data)\n",
    "print(df)"
   ]
  },
  {
   "cell_type": "code",
   "execution_count": 8,
   "metadata": {},
   "outputs": [
    {
     "data": {
      "text/html": [
       "<div>\n",
       "<style scoped>\n",
       "    .dataframe tbody tr th:only-of-type {\n",
       "        vertical-align: middle;\n",
       "    }\n",
       "\n",
       "    .dataframe tbody tr th {\n",
       "        vertical-align: top;\n",
       "    }\n",
       "\n",
       "    .dataframe thead th {\n",
       "        text-align: right;\n",
       "    }\n",
       "</style>\n",
       "<table border=\"1\" class=\"dataframe\">\n",
       "  <thead>\n",
       "    <tr style=\"text-align: right;\">\n",
       "      <th></th>\n",
       "      <th>a</th>\n",
       "      <th>b</th>\n",
       "      <th>c</th>\n",
       "    </tr>\n",
       "  </thead>\n",
       "  <tbody>\n",
       "    <tr>\n",
       "      <th>0</th>\n",
       "      <td>1</td>\n",
       "      <td>2</td>\n",
       "      <td>3</td>\n",
       "    </tr>\n",
       "    <tr>\n",
       "      <th>1</th>\n",
       "      <td>4</td>\n",
       "      <td>5</td>\n",
       "      <td>6</td>\n",
       "    </tr>\n",
       "    <tr>\n",
       "      <th>2</th>\n",
       "      <td>7</td>\n",
       "      <td>8</td>\n",
       "      <td>9</td>\n",
       "    </tr>\n",
       "  </tbody>\n",
       "</table>\n",
       "</div>"
      ],
      "text/plain": [
       "   a  b  c\n",
       "0  1  2  3\n",
       "1  4  5  6\n",
       "2  7  8  9"
      ]
     },
     "execution_count": 8,
     "metadata": {},
     "output_type": "execute_result"
    }
   ],
   "source": [
    "#8. array\n",
    "import numpy as np\n",
    "df = pd.DataFrame(np.array([[1, 2, 3], [4, 5, 6], [7, 8, 9]]),\n",
    "                   columns=['a', 'b', 'c'])\n",
    "df"
   ]
  },
  {
   "cell_type": "code",
   "execution_count": 9,
   "metadata": {},
   "outputs": [
    {
     "data": {
      "text/plain": [
       "a    int32\n",
       "b    int32\n",
       "c    int32\n",
       "dtype: object"
      ]
     },
     "execution_count": 9,
     "metadata": {},
     "output_type": "execute_result"
    }
   ],
   "source": [
    "df.dtypes"
   ]
  },
  {
   "cell_type": "code",
   "execution_count": 12,
   "metadata": {},
   "outputs": [],
   "source": [
    "df.to_csv('Finaltestdata.csv', index = False, header=True)\n",
    "\n",
    "#if you wish to include the index, then simply remove index = False\n",
    "#df.to_csv(r'C:\\Users\\HT-ICT\\Desktop\\Finaltestdata.csv', index = False, header=True) #if you want to save it on Desktop"
   ]
  },
  {
   "cell_type": "code",
   "execution_count": 13,
   "metadata": {},
   "outputs": [
    {
     "name": "stdout",
     "output_type": "stream",
     "text": [
      "     Name  Surname  Age\n",
      "0   Esmee   Bloggs   25\n",
      "1  Tahlia     Bray   37\n",
      "2    Cai   Mcgrath   30 \n",
      "\n",
      "37\n"
     ]
    }
   ],
   "source": [
    "#importing excel file :data = pd.read_excel(r'C:\\Users\\HT-ICT\\Desktop\\testdata.xlsx') for an earlier version of Excel use 'xls'\n",
    "#possible error:\n",
    "#Use pip or conda to install odfpy to support .ods\n",
    "#use the PIP install method to install xlrd: pip install xlrd\n",
    "\n",
    "#importing csv file\n",
    "data2=pd.read_csv(r'C:\\Users\\HT-ICT\\Desktop\\testdata.csv')\n",
    "df3 = pd.DataFrame(data2, columns = ['Name','Surname','Age'])\n",
    "\n",
    "print (df3, \"\\n\")\n",
    "\n",
    "#Get the maximum value from the DataFrame\n",
    "max1 = df3['Age'].max()\n",
    "print (max1)"
   ]
  },
  {
   "cell_type": "code",
   "execution_count": null,
   "metadata": {},
   "outputs": [],
   "source": []
  }
 ],
 "metadata": {
  "kernelspec": {
   "display_name": "Python 3",
   "language": "python",
   "name": "python3"
  },
  "language_info": {
   "codemirror_mode": {
    "name": "ipython",
    "version": 3
   },
   "file_extension": ".py",
   "mimetype": "text/x-python",
   "name": "python",
   "nbconvert_exporter": "python",
   "pygments_lexer": "ipython3",
   "version": "3.8.3"
  }
 },
 "nbformat": 4,
 "nbformat_minor": 4
}
